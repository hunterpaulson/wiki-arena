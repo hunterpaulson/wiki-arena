{
 "cells": [
  {
   "cell_type": "code",
   "execution_count": 3,
   "metadata": {},
   "outputs": [
    {
     "name": "stdout",
     "output_type": "stream",
     "text": [
      "Page: United States\n",
      "Out-degree (number of outbound links): 1997\n"
     ]
    },
    {
     "data": {
      "text/plain": [
       "1997"
      ]
     },
     "execution_count": 3,
     "metadata": {},
     "output_type": "execute_result"
    }
   ],
   "source": [
    "import wikipediaapi\n",
    "\n",
    "def get_out_degree(title):\n",
    "    # Set a compliant user agent\n",
    "    user_agent = 'MyWikiApp/1.0 (contact@example.com)'  # Replace with real contact\n",
    "    wiki = wikipediaapi.Wikipedia(user_agent=user_agent, language='en')\n",
    "\n",
    "    page = wiki.page(title)\n",
    "\n",
    "    if not page.exists():\n",
    "        print(f\"❌ Page '{title}' does not exist.\")\n",
    "        return 0\n",
    "\n",
    "    out_links = page.links.keys()\n",
    "    print(f\"Page: {title}\")\n",
    "    print(f\"Out-degree (number of outbound links): {len(out_links)}\")\n",
    "    return len(out_links)\n",
    "\n",
    "# Example usage:\n",
    "get_out_degree(\"United States\")"
   ]
  },
  {
   "cell_type": "code",
   "execution_count": 1,
   "metadata": {},
   "outputs": [
    {
     "name": "stdout",
     "output_type": "stream",
     "text": [
      "Hello, World!\n"
     ]
    }
   ],
   "source": [
    "print(\"Hello, World!\")"
   ]
  }
 ],
 "metadata": {
  "kernelspec": {
   "display_name": ".venv",
   "language": "python",
   "name": "python3"
  },
  "language_info": {
   "codemirror_mode": {
    "name": "ipython",
    "version": 3
   },
   "file_extension": ".py",
   "mimetype": "text/x-python",
   "name": "python",
   "nbconvert_exporter": "python",
   "pygments_lexer": "ipython3",
   "version": "3.12.9"
  }
 },
 "nbformat": 4,
 "nbformat_minor": 2
}
